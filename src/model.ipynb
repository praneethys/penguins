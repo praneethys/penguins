{
 "cells": [
  {
   "cell_type": "code",
   "execution_count": 7,
   "metadata": {},
   "outputs": [],
   "source": [
    "import os\n",
    "import numpy as np\n",
    "import pandas as pd\n",
    "import seaborn as sns\n",
    "import tempfile\n",
    "import urllib.request\n",
    "from comet_ml import Experiment"
   ]
  },
  {
   "cell_type": "code",
   "execution_count": 9,
   "metadata": {},
   "outputs": [
    {
     "name": "stdout",
     "output_type": "stream",
     "text": [
      "Please enter your Comet API key from https://www.comet.com/api/my/settings/\n",
      "(api key may not show as you type)\n"
     ]
    },
    {
     "name": "stderr",
     "output_type": "stream",
     "text": [
      "COMET INFO: Comet API key is valid\n",
      "COMET INFO: Comet API key saved in /Users/praneeth/.comet.config\n"
     ]
    }
   ],
   "source": [
    "import comet_ml\n",
    "comet_ml.init()"
   ]
  },
  {
   "cell_type": "code",
   "execution_count": 11,
   "metadata": {},
   "outputs": [
    {
     "name": "stderr",
     "output_type": "stream",
     "text": [
      "COMET INFO: ---------------------------------------------------------------------------------------\n",
      "COMET INFO: Comet.ml Experiment Summary\n",
      "COMET INFO: ---------------------------------------------------------------------------------------\n",
      "COMET INFO:   Data:\n",
      "COMET INFO:     display_summary_level : 1\n",
      "COMET INFO:     url                   : https://www.comet.com/praneethys/penguins/5fcfbba404f041b88d11f14aa76530ca\n",
      "COMET INFO:   Uploads:\n",
      "COMET INFO:     environment details : 1\n",
      "COMET INFO:     filename            : 1\n",
      "COMET INFO:     installed packages  : 1\n",
      "COMET INFO:     notebook            : 1\n",
      "COMET INFO:     source_code         : 1\n",
      "COMET INFO: \n",
      "COMET ERROR: Error sending a notification, make sure you have opted-in for notifications\n",
      "COMET ERROR: Failed to report experiment status (experiment ended)\n",
      "COMET WARNING: As you are running in a Jupyter environment, you will need to call `experiment.end()` when finished to ensure all metrics and code are logged before exiting.\n",
      "COMET INFO: Experiment is live on comet.com https://www.comet.com/praneethys/penguins/04570bfdf7b14d4bb6165b5315ce61dc\n",
      "\n"
     ]
    },
    {
     "name": "stderr",
     "output_type": "stream",
     "text": [
      "COMET ERROR: File-like could not be uploaded: ValueError('Uploading file-like failed (400) with max retries: 4 on url \\'https://www.comet.com/clientlib/asset/upload\\': b\\'{\"msg\":\"User not allowed to upload asset for this experiment.\",\"code\":400,\"data\":null,\"sdk_error_code\":0}\\'')\n",
      "COMET ERROR: File-like could not be uploaded: ValueError('Uploading file-like failed (400) with max retries: 4 on url \\'https://www.comet.com/clientlib/asset/upload\\': b\\'{\"msg\":\"User not allowed to upload asset for this experiment.\",\"code\":400,\"data\":null,\"sdk_error_code\":0}\\'')\n"
     ]
    }
   ],
   "source": [
    "experiment = Experiment(\n",
    "    project_name=\"Penguins\",\n",
    "    auto_metric_logging=True,\n",
    "    auto_param_logging=True,\n",
    "    auto_histogram_weight_logging=True,\n",
    "    auto_histogram_gradient_logging=True,\n",
    "    auto_histogram_activation_logging=True,\n",
    ")"
   ]
  }
 ],
 "metadata": {
  "kernelspec": {
   "display_name": ".venv",
   "language": "python",
   "name": "python3"
  },
  "language_info": {
   "codemirror_mode": {
    "name": "ipython",
    "version": 3
   },
   "file_extension": ".py",
   "mimetype": "text/x-python",
   "name": "python",
   "nbconvert_exporter": "python",
   "pygments_lexer": "ipython3",
   "version": "3.11.2"
  },
  "orig_nbformat": 4
 },
 "nbformat": 4,
 "nbformat_minor": 2
}
